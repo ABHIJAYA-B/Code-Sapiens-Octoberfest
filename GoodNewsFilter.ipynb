{
  "nbformat": 4,
  "nbformat_minor": 0,
  "metadata": {
    "colab": {
      "provenance": []
    },
    "kernelspec": {
      "name": "python3",
      "display_name": "Python 3"
    },
    "language_info": {
      "name": "python"
    }
  },
  "cells": [
    {
      "cell_type": "code",
      "execution_count": 6,
      "metadata": {
        "colab": {
          "base_uri": "https://localhost:8080/"
        },
        "id": "WOYFp8KC3m2l",
        "outputId": "803f848d-a575-40b7-94aa-f237a5674ab5"
      },
      "outputs": [
        {
          "output_type": "stream",
          "name": "stdout",
          "text": [
            "Requirement already satisfied: requests in /usr/local/lib/python3.10/dist-packages (2.32.3)\n",
            "Requirement already satisfied: transformers in /usr/local/lib/python3.10/dist-packages (4.44.2)\n",
            "Requirement already satisfied: charset-normalizer<4,>=2 in /usr/local/lib/python3.10/dist-packages (from requests) (3.4.0)\n",
            "Requirement already satisfied: idna<4,>=2.5 in /usr/local/lib/python3.10/dist-packages (from requests) (3.10)\n",
            "Requirement already satisfied: urllib3<3,>=1.21.1 in /usr/local/lib/python3.10/dist-packages (from requests) (2.2.3)\n",
            "Requirement already satisfied: certifi>=2017.4.17 in /usr/local/lib/python3.10/dist-packages (from requests) (2024.8.30)\n",
            "Requirement already satisfied: filelock in /usr/local/lib/python3.10/dist-packages (from transformers) (3.16.1)\n",
            "Requirement already satisfied: huggingface-hub<1.0,>=0.23.2 in /usr/local/lib/python3.10/dist-packages (from transformers) (0.24.7)\n",
            "Requirement already satisfied: numpy>=1.17 in /usr/local/lib/python3.10/dist-packages (from transformers) (1.26.4)\n",
            "Requirement already satisfied: packaging>=20.0 in /usr/local/lib/python3.10/dist-packages (from transformers) (24.1)\n",
            "Requirement already satisfied: pyyaml>=5.1 in /usr/local/lib/python3.10/dist-packages (from transformers) (6.0.2)\n",
            "Requirement already satisfied: regex!=2019.12.17 in /usr/local/lib/python3.10/dist-packages (from transformers) (2024.9.11)\n",
            "Requirement already satisfied: safetensors>=0.4.1 in /usr/local/lib/python3.10/dist-packages (from transformers) (0.4.5)\n",
            "Requirement already satisfied: tokenizers<0.20,>=0.19 in /usr/local/lib/python3.10/dist-packages (from transformers) (0.19.1)\n",
            "Requirement already satisfied: tqdm>=4.27 in /usr/local/lib/python3.10/dist-packages (from transformers) (4.66.6)\n",
            "Requirement already satisfied: fsspec>=2023.5.0 in /usr/local/lib/python3.10/dist-packages (from huggingface-hub<1.0,>=0.23.2->transformers) (2024.10.0)\n",
            "Requirement already satisfied: typing-extensions>=3.7.4.3 in /usr/local/lib/python3.10/dist-packages (from huggingface-hub<1.0,>=0.23.2->transformers) (4.12.2)\n",
            "Good News Articles:\n",
            "Title: Live Briefing: Israel strikes Beirut area; U.S. pushes to rekindle peace talks - The Washington Post\n",
            "Link: https://www.washingtonpost.com/world/2024/11/01/israel-iran-war-news-lebanon-hezbollah-gaza-palestine/\n",
            "Summary: U.S. Secretary of State Antony Blinken argued that Israel has accomplished its main objectives in Gaza and thus the “focus now must be on ending the war.”\n",
            "\n",
            "Title: Manchester United name Portugal’s Ruben Amorim as new manager - Al Jazeera English\n",
            "Link: https://www.aljazeera.com/sports/2024/11/1/ruben-amorim-confirmed-as-new-manchester-united-manager-portuguese-coach-premier-league\n",
            "Summary: Amorim has signed a contract at the famous English club until June 2027, starting in his new role on November 11.\n",
            "\n",
            "Title: How to build a company that can save the world and generate a profit - TechCrunch\n",
            "Link: https://techcrunch.com/2024/11/01/how-to-build-a-company-that-can-save-the-world-and-generate-a-profit/\n",
            "Summary: For startups that hope to save the world, or at least make it a better place, balancing impact with profit can be tricky.\n",
            "\n",
            "Title: Exxon Mobil CEO Darren Woods on Q3 results: Company transformation is beginning to manifest itself - CNBC Television\n",
            "Link: https://www.youtube.com/watch?v\\\\u003d4v_DBtlwVb8\n",
            "Summary: No summary available.\n",
            "\n"
          ]
        }
      ],
      "source": [
        "!pip install requests transformers\n",
        "\n",
        "import requests\n",
        "from transformers import pipeline\n",
        "import warnings\n",
        "\n",
        "\n",
        "warnings.simplefilter(action='ignore', category=FutureWarning)\n",
        "\n",
        "\n",
        "sentiment_classifier = pipeline(\"sentiment-analysis\", model=\"distilbert-base-uncased-finetuned-sst-2-english\")\n",
        "\n",
        "\n",
        "def fetch_good_news(api_key):\n",
        "    url = f\"https://newsapi.org/v2/top-headlines?country=us&apiKey={api_key}\"\n",
        "    response = requests.get(url)\n",
        "\n",
        "    if response.status_code != 200:\n",
        "        print(f\"Error fetching news: {response.status_code}\")\n",
        "        return []\n",
        "\n",
        "    articles = response.json().get('articles', [])\n",
        "    return articles\n",
        "\n",
        "\n",
        "def filter_good_news(articles):\n",
        "    good_news = []\n",
        "    for article in articles:\n",
        "        title = article['title']\n",
        "        sentiment = sentiment_classifier(title)[0]\n",
        "        if sentiment['label'] == 'POSITIVE' and sentiment['score'] > 0.7:  # Adjust threshold\n",
        "            good_news.append({\n",
        "                \"title\": title,\n",
        "                \"link\": article['url'],\n",
        "                \"summary\": article['description'] if article['description'] else \"No summary available.\"\n",
        "            })\n",
        "    return good_news\n",
        "\n",
        "\n",
        "def main(api_key):\n",
        "    articles = fetch_good_news(api_key)\n",
        "    good_news_articles = filter_good_news(articles)\n",
        "\n",
        "    if good_news_articles:\n",
        "        print(\"Good News Articles:\")\n",
        "        for article in good_news_articles:\n",
        "            print(f\"Title: {article['title']}\")\n",
        "            print(f\"Link: {article['link']}\")\n",
        "            print(f\"Summary: {article['summary']}\\n\")\n",
        "    else:\n",
        "        print(\"No good news articles found.\")\n",
        "\n",
        "\n",
        "API_KEY = '62fbe827d905412ebd72c3158cb0b321'\n",
        "main(API_KEY)\n"
      ]
    }
  ]
}